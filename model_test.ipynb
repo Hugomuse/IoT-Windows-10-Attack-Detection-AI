{
 "cells": [
  {
   "cell_type": "code",
   "execution_count": 19,
   "metadata": {},
   "outputs": [
    {
     "name": "stdout",
     "output_type": "stream",
     "text": [
      "<class 'pandas.core.frame.DataFrame'>\n",
      "RangeIndex: 10000 entries, 0 to 9999\n",
      "Columns: 126 entries, Processor_DPC_Rate to type\n",
      "dtypes: float64(5), int64(51), object(70)\n",
      "memory usage: 9.6+ MB\n"
     ]
    },
    {
     "name": "stderr",
     "output_type": "stream",
     "text": [
      "C:\\Users\\Alperen\\AppData\\Local\\Temp\\ipykernel_14188\\2880792353.py:9: DtypeWarning: Columns (1,2,3,4,5,6,7,8,9,10,11,12,13,14,45,46,49,51,52,54,56,58,59,60,61,62,71,72,73,74,76,79,80,84,95,98,100,101,102,103,105,106,107,109,111,112,113,114,115,116,117,118,119,120,121,122,123) have mixed types. Specify dtype option on import or set low_memory=False.\n",
      "  dataframe=pd.read_csv('./Iot_Windows_10_random.csv')\n"
     ]
    }
   ],
   "source": [
    "import joblib\n",
    "import pandas as pd\n",
    "import numpy as np\n",
    "import matplotlib.pyplot as plt\n",
    "import seaborn as sns\n",
    "\n",
    "\n",
    "\n",
    "dataframe=pd.read_csv('./Iot_Windows_10_random.csv')\n",
    "model = joblib.load('Iot_model_ikili.pkl')\n",
    "\n",
    "dataframe.info()"
   ]
  },
  {
   "cell_type": "code",
   "execution_count": 20,
   "metadata": {},
   "outputs": [],
   "source": [
    "dataframe= dataframe.drop(\"type\", axis=1)\n",
    "dataframe = dataframe.apply(pd.to_numeric, errors='coerce', axis=1)\n",
    "correlations = dataframe.corr()['label']\n",
    "columns_to_drop = correlations[correlations.isna()].index\n",
    "dataframe = dataframe.drop(columns=columns_to_drop, axis=1)\n",
    "columns_add = []\n",
    "for column, correlation in correlations.items():\n",
    "    if 0 < correlation < 0.3052701147994894:\n",
    "        columns_add.append(column)\n",
    "    elif -0.10585134837663442 <= correlation < 0:\n",
    "        columns_add.append(column)\n",
    "        \n",
    "columns_add.append(\"label\")\n",
    "\n",
    "# Seçilen sütunları DataFrame'den al\n",
    "dataframe_selected = dataframe[columns_add]\n",
    "\n",
    "\n",
    "# DataFrame'den önce NumPy dizisine dönüştürün\n",
    "dataframe = dataframe_selected.drop([\"label\"], axis=1).values\n",
    "\n",
    "\n"
   ]
  },
  {
   "cell_type": "code",
   "execution_count": 21,
   "metadata": {},
   "outputs": [
    {
     "name": "stdout",
     "output_type": "stream",
     "text": [
      "Rastgele Giriş Verisi:\n",
      "[6.73132310e+01 1.56250072e-01 6.73132310e+01 2.01562133e+01\n",
      " 2.42187611e+00 9.76562949e+00 3.60002869e+00 5.95812762e+09\n",
      " 1.00000797e-01 3.68952941e+03 1.94843840e+02 3.07386400e+06\n",
      " 6.76005388e+01 3.70002949e+00 1.74062580e+02 7.47865960e+03\n",
      " 9.25007372e+02 4.80113826e+03 2.53802023e+02 5.05494029e+03\n",
      " 4.70003746e+00 6.50005181e+00 1.00000000e+09 1.12000893e+01\n",
      " 2.00000000e+00 4.70003746e+00 6.50005181e+00 1.05549824e+08\n",
      " 1.18632448e+08 9.67475200e+06 1.80001435e+00 5.73731226e+09\n",
      " 0.00000000e+00 0.00000000e+00 3.03618000e-04]\n",
      "Tahminler: 0.0\n"
     ]
    }
   ],
   "source": [
    "# NumPy dizisinin boyutlarını alın\n",
    "num_rows = dataframe.shape[0]\n",
    "\n",
    "# Rastgele bir satırın dizideki indeksini seçin\n",
    "random_row_index = np.random.randint(0, num_rows)\n",
    "\n",
    "# Seçilen rastgele satırı alın\n",
    "rastgele_giris = dataframe[random_row_index]\n",
    "\n",
    "print(\"Rastgele Giriş Verisi:\")\n",
    "print(rastgele_giris)\n",
    "\n",
    "tahmin = model.predict(rastgele_giris)\n",
    "\n",
    "print(\"Tahminler:\", tahmin)\n",
    "\n"
   ]
  },
  {
   "cell_type": "code",
   "execution_count": 22,
   "metadata": {},
   "outputs": [
    {
     "data": {
      "image/png": "[encoded data removed]",
      "text/plain": [
       "<Figure size 640x480 with 1 Axes>"
      ]
     },
     "metadata": {},
     "output_type": "display_data"
    }
   ],
   "source": [
    "tahmin = model.predict(dataframe)\n",
    "        \n",
    "tahmin_df = pd.DataFrame({\"label\": tahmin})\n",
    "            \n",
    "# seaborn ile countplot'u çizdirin\n",
    "sns.countplot(x=\"label\", data=tahmin_df)\n",
    "plt.show()"
   ]
  },
  {
   "cell_type": "code",
   "execution_count": null,
   "metadata": {},
   "outputs": [],
   "source": []
  }
 ],
 "metadata": {
  "kernelspec": {
   "display_name": "Python 3",
   "language": "python",
   "name": "python3"
  },
  "language_info": {
   "codemirror_mode": {
    "name": "ipython",
    "version": 3
   },
   "file_extension": ".py",
   "mimetype": "text/x-python",
   "name": "python",
   "nbconvert_exporter": "python",
   "pygments_lexer": "ipython3",
   "version": "3.10.2"
  }
 },
 "nbformat": 4,
 "nbformat_minor": 2
}
